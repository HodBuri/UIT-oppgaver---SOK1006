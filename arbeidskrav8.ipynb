{
 "cells": [
  {
   "cell_type": "markdown",
   "id": "8b8922cc-ef71-4a83-8d5e-13845a20a22b",
   "metadata": {},
   "source": [
    "### Arbeidskrav 8\n",
    "Konsumentteori"
   ]
  },
  {
   "cell_type": "code",
   "execution_count": 28,
   "id": "9629bd75-f31d-41a1-8008-4fca7543298d",
   "metadata": {},
   "outputs": [
    {
     "name": "stdout",
     "output_type": "stream",
     "text": [
      "finish\n"
     ]
    }
   ],
   "source": [
    "import pandas as pd\n",
    "import numpy as np\n",
    "from matplotlib import pyplot as plt\n",
    "import sympy as sp\n",
    "from mpmath import findroot\n",
    "from sympy.solvers import solve\n",
    "from IPython.display import Markdown\n",
    "\n",
    "from cycler import cycler\n",
    "from matplotlib.ticker import MaxNLocator\n",
    "import matplotlib.ticker as mticker\n",
    "import matplotlib.pylab as pylab\n",
    "\n",
    "print(\"finish\")"
   ]
  },
  {
   "cell_type": "markdown",
   "id": "06b760d8-58bd-4ba4-b7bd-f38b93cdaf6a",
   "metadata": {},
   "source": [
    "### Oppgave  3  \n",
    "Tenk at en husholdning har preferanser over to goder ($x_1, x_2$) gitt ved en nyttefunksjon av Stone-Geary type:\n",
    "\n",
    "\\begin{equation}\n",
    "   U(x_1, x_2) = \\beta_1 ln (x_1-\\gamma_1) + \\beta_2 ln (x_2-\\gamma_2) \n",
    "\\end{equation}\n",
    "\n",
    "hvor $\\beta_1+\\beta_2=1$, og $\\gamma_1>0, \\gamma_2>0$.    "
   ]
  },
  {
   "cell_type": "markdown",
   "id": "9fd4132f-bc16-49f8-9d78-f0d012eedb2e",
   "metadata": {},
   "source": [
    "**a) Hva kan tolkningen av $\\gamma_1, \\gamma_2$ være?**"
   ]
  },
  {
   "cell_type": "markdown",
   "id": "5ed6ae9a-bf12-42bb-91c1-62a117a54e49",
   "metadata": {},
   "source": [
    "$\\gamma_1$ og $\\gamma_2$ viser minimum consumption for $x_1$ og $x_2$ husholdningen må nå får å få posetive utility."
   ]
  },
  {
   "cell_type": "markdown",
   "id": "5c5c8f36-6e12-4e24-94d6-3ad63e3b3609",
   "metadata": {},
   "source": [
    "**b) Priser på de to godene er gitt ved $p_1, p_2$, og husholdningen har inntekt $m$. Hvor mye av hvert gode etterspørres av husholdningen? Gi en intuitiv forklaring av formen på denne etterspørselen.**"
   ]
  },
  {
   "cell_type": "markdown",
   "id": "846c565c-44a5-4c4a-abb9-5b78c04aa217",
   "metadata": {},
   "source": [
    "Definering av variabler"
   ]
  },
  {
   "cell_type": "code",
   "execution_count": 6,
   "id": "06f5411b-d378-4ec6-95dd-9eddeeecee40",
   "metadata": {},
   "outputs": [],
   "source": [
    "x1, x2, m, p1, p2 = sp.symbols('x1 x2 m p1 p2')\n",
    "beta_1, beta_2, gamma_1, gamma_2 = sp.symbols('beta_1 beta_2 gamma_1 gamma_2')\n",
    "lambda_ = sp.symbols('lambda')"
   ]
  },
  {
   "cell_type": "markdown",
   "id": "aeadb1c7-bfea-4d03-ba7a-877f9804fee4",
   "metadata": {},
   "source": [
    "Definering av funksjonene Utility og Budget"
   ]
  },
  {
   "cell_type": "code",
   "execution_count": 7,
   "id": "ff9ceb72-05a5-46c8-863e-b270f00489bb",
   "metadata": {},
   "outputs": [
    {
     "data": {
      "text/latex": [
       "$\\displaystyle \\beta_{1} \\log{\\left(- \\gamma_{1} + x_{1} \\right)} + \\beta_{2} \\log{\\left(- \\gamma_{2} + x_{2} \\right)}$"
      ],
      "text/plain": [
       "beta_1*log(-gamma_1 + x1) + beta_2*log(-gamma_2 + x2)"
      ]
     },
     "metadata": {},
     "output_type": "display_data"
    },
    {
     "data": {
      "text/latex": [
       "$\\displaystyle m - p_{1} x_{1} - p_{2} x_{2}$"
      ],
      "text/plain": [
       "m - p1*x1 - p2*x2"
      ]
     },
     "metadata": {},
     "output_type": "display_data"
    }
   ],
   "source": [
    "utility = beta_1 * sp.log(x1 - gamma_1) + beta_2 * sp.log(x2 - gamma_2)\n",
    "\n",
    "budget_constraint = m - p1 * x1 - p2 * x2\n",
    "\n",
    "display(utility)\n",
    "display(budget_constraint)"
   ]
  },
  {
   "cell_type": "markdown",
   "id": "b98d48c6-35b7-4569-9b4a-c4919d8f81c6",
   "metadata": {},
   "source": [
    "Matematisk setter vi opp lagrangian for utility maximiazation problemet"
   ]
  },
  {
   "cell_type": "code",
   "execution_count": 11,
   "id": "bc211417-2f7d-475a-ab80-f58eccd9b336",
   "metadata": {},
   "outputs": [
    {
     "data": {
      "text/latex": [
       "$\\displaystyle \\beta_{1} \\log{\\left(- \\gamma_{1} + x_{1} \\right)} + \\beta_{2} \\log{\\left(- \\gamma_{2} + x_{2} \\right)} + \\lambda \\left(m - p_{1} x_{1} - p_{2} x_{2}\\right)$"
      ],
      "text/plain": [
       "beta_1*log(-gamma_1 + x1) + beta_2*log(-gamma_2 + x2) + lambda*(m - p1*x1 - p2*x2)"
      ]
     },
     "metadata": {},
     "output_type": "display_data"
    }
   ],
   "source": [
    "lagrangian = utility + lambda_ * budget_constraint\n",
    "display(lagrangian)"
   ]
  },
  {
   "cell_type": "markdown",
   "id": "ae00e91b-2559-4915-87ce-a34c38f90623",
   "metadata": {},
   "source": [
    "Partial derivatives"
   ]
  },
  {
   "cell_type": "code",
   "execution_count": 12,
   "id": "9861d035-fa54-4b14-9f2f-ebd36725247b",
   "metadata": {},
   "outputs": [],
   "source": [
    "dL_x1 = sp.diff(lagrangian, x1)\n",
    "dL_x2 = sp.diff(lagrangian, x2)\n",
    "dL_lambda = sp.diff(lagrangian, lambda_)"
   ]
  },
  {
   "cell_type": "markdown",
   "id": "114f6a0e-c8ac-4f4a-a7da-96bdad8ac672",
   "metadata": {},
   "source": [
    "finn demand function"
   ]
  },
  {
   "cell_type": "code",
   "execution_count": 15,
   "id": "6984908f-711e-491a-8197-085fef2ff73c",
   "metadata": {},
   "outputs": [],
   "source": [
    "solution = sp.solve([dL_x1, dL_x2, dL_lambda], [x1, x2, lambda_])"
   ]
  },
  {
   "cell_type": "markdown",
   "id": "75501305-38e6-47e8-9cdd-50326b278407",
   "metadata": {},
   "source": [
    "Simplefiser demand function"
   ]
  },
  {
   "cell_type": "code",
   "execution_count": 20,
   "id": "0d91a5ff-8028-4fe1-940b-6f85139e59e1",
   "metadata": {},
   "outputs": [
    {
     "name": "stdout",
     "output_type": "stream",
     "text": [
      "Demand function får goder 1 (x1):\n"
     ]
    },
    {
     "data": {
      "text/latex": [
       "$\\displaystyle \\frac{- \\beta_{1} \\gamma_{2} p_{2} + \\beta_{1} m + \\beta_{2} \\gamma_{1} p_{1}}{p_{1} \\left(\\beta_{1} + \\beta_{2}\\right)}$"
      ],
      "text/plain": [
       "(-beta_1*gamma_2*p2 + beta_1*m + beta_2*gamma_1*p1)/(p1*(beta_1 + beta_2))"
      ]
     },
     "metadata": {},
     "output_type": "display_data"
    },
    {
     "name": "stdout",
     "output_type": "stream",
     "text": [
      "Demand function får goder 2 (x2):\n"
     ]
    },
    {
     "data": {
      "text/latex": [
       "$\\displaystyle \\frac{\\beta_{1} \\gamma_{2} p_{2} - \\beta_{2} \\gamma_{1} p_{1} + \\beta_{2} m}{p_{2} \\left(\\beta_{1} + \\beta_{2}\\right)}$"
      ],
      "text/plain": [
       "(beta_1*gamma_2*p2 - beta_2*gamma_1*p1 + beta_2*m)/(p2*(beta_1 + beta_2))"
      ]
     },
     "metadata": {},
     "output_type": "display_data"
    }
   ],
   "source": [
    "x1_solution = sp.simplify(solution[0][0])\n",
    "x2_solution = sp.simplify(solution[0][1])\n",
    "\n",
    "print(\"Demand function får goder 1 (x1):\")\n",
    "display(x1_solution)\n",
    "print(\"Demand function får goder 2 (x2):\")\n",
    "display(x2_solution)"
   ]
  },
  {
   "cell_type": "markdown",
   "id": "205f5ab5-5df9-4b28-9b67-0ecbcc0a863d",
   "metadata": {},
   "source": [
    "Her er 2 demand funksjoner som viser etterspørrsel av hver gode i husholdet. \n",
    "Med $\\gamma_1$ og $\\gamma_2$ som viser minimum requirement.\n",
    "$\\beta_1$ og $\\beta_2$ viser preference\n",
    "$p_1$ og $p_2$ viser pris for gods"
   ]
  },
  {
   "cell_type": "markdown",
   "id": "aa60c71a-340e-4306-b7eb-c46a579001aa",
   "metadata": {},
   "source": [
    "**c) Statistisk sentralbyrå har utviklet to makroøkonomiske modeller (KVARTS og MODAG) som brukes som analyseredskap av blant annet Finansdepartementet. Les de gule avsnittene i [dette dokumentet](https://github.com/uit-sok-1006-v23/uit-sok-1006-v23.github.io/blob/main/artikler/konsum%20modag%202013%20merket.pdf) som forklarer hvordan husholdningens tilpasning modelleres i KVARTS og MODAG. Bruk din analyse ovenfor til å forklare Trinn 1 i denne prosessen.**"
   ]
  },
  {
   "cell_type": "markdown",
   "id": "bca5c643-cf54-430f-b0c5-6366bcaf33d6",
   "metadata": {},
   "source": [
    "I KVARTS og MODAGs modelen så har vi en utility function som ser slik ut:\n",
    "    $U(CP_{30},CP_{40},CP_{IV}) = \\beta_{30}*ln(CP_{30}-\\gamma_{30})+\\beta_{40}*ln(CP_{40}-\\gamma_{40})+\\beta_{IV}*ln(CP_{IV}-\\gamma_{IV})$\n",
    "og en budget constraint som er:\n",
    "    $PC_{30}*CP_{30}+PC_{40}*CP_{40}+PC_{IV}*CP_{IV} = VCPEB$\n",
    "\n",
    "I den tiligere analysen så hadde vi og en utility function og en budget constraint:\n",
    "    $U(x_1,x_2) = \\beta_1*ln(x_1-\\gamma_1)+\\beta_2*ln(x_2-\\gamma_2)$\n",
    "    $m = p_1*x_1+p_2*x_2$\n",
    "\n",
    "Både KVARTS og MODAGs modellene og den forige analyzen bruker Stone-Geary utility functions får å reprensentere konsumer preferences og et budskjet constraint få å reprensentere inkome til husholdet."
   ]
  },
  {
   "cell_type": "markdown",
   "id": "08fd767f-5eda-4e5b-baab-9faa8df894c2",
   "metadata": {},
   "source": [
    "Forskjellen er at KVARTS og MODAGs modellene inkluderer flere konsumer kategorier (CP_30, CP_40, CP_IV), mens vår tidligere analyse fokuserte på to goder (x1, x2)."
   ]
  }
 ],
 "metadata": {
  "kernelspec": {
   "display_name": "Python 3 (ipykernel)",
   "language": "python",
   "name": "python3"
  },
  "language_info": {
   "codemirror_mode": {
    "name": "ipython",
    "version": 3
   },
   "file_extension": ".py",
   "mimetype": "text/x-python",
   "name": "python",
   "nbconvert_exporter": "python",
   "pygments_lexer": "ipython3",
   "version": "3.10.4"
  }
 },
 "nbformat": 4,
 "nbformat_minor": 5
}
